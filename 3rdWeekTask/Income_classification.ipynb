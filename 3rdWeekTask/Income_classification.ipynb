{
  "nbformat": 4,
  "nbformat_minor": 0,
  "metadata": {
    "colab": {
      "provenance": [],
      "authorship_tag": "ABX9TyNfJ5j1qAYpQrWT8XJY5j7B",
      "include_colab_link": true
    },
    "kernelspec": {
      "name": "python3",
      "display_name": "Python 3"
    },
    "language_info": {
      "name": "python"
    }
  },
  "cells": [
    {
      "cell_type": "markdown",
      "metadata": {
        "id": "view-in-github",
        "colab_type": "text"
      },
      "source": [
        "<a href=\"https://colab.research.google.com/github/Alfikriangelo/DeepLearningTasks/blob/main/3rdWeekTask/Income_classification.ipynb\" target=\"_parent\"><img src=\"https://colab.research.google.com/assets/colab-badge.svg\" alt=\"Open In Colab\"/></a>"
      ]
    },
    {
      "cell_type": "code",
      "source": [
        "pip install imbalanced-learn"
      ],
      "metadata": {
        "colab": {
          "base_uri": "https://localhost:8080/"
        },
        "id": "JL5P9xC212W6",
        "outputId": "93e28ff5-cc68-40c6-8116-74abdd407217"
      },
      "execution_count": 3,
      "outputs": [
        {
          "output_type": "stream",
          "name": "stdout",
          "text": [
            "Requirement already satisfied: imbalanced-learn in /usr/local/lib/python3.11/dist-packages (0.13.0)\n",
            "Requirement already satisfied: numpy<3,>=1.24.3 in /usr/local/lib/python3.11/dist-packages (from imbalanced-learn) (2.0.2)\n",
            "Requirement already satisfied: scipy<2,>=1.10.1 in /usr/local/lib/python3.11/dist-packages (from imbalanced-learn) (1.14.1)\n",
            "Requirement already satisfied: scikit-learn<2,>=1.3.2 in /usr/local/lib/python3.11/dist-packages (from imbalanced-learn) (1.6.1)\n",
            "Requirement already satisfied: sklearn-compat<1,>=0.1 in /usr/local/lib/python3.11/dist-packages (from imbalanced-learn) (0.1.3)\n",
            "Requirement already satisfied: joblib<2,>=1.1.1 in /usr/local/lib/python3.11/dist-packages (from imbalanced-learn) (1.4.2)\n",
            "Requirement already satisfied: threadpoolctl<4,>=2.0.0 in /usr/local/lib/python3.11/dist-packages (from imbalanced-learn) (3.6.0)\n"
          ]
        }
      ]
    },
    {
      "cell_type": "code",
      "execution_count": 5,
      "metadata": {
        "id": "3s05_Dh50ntY"
      },
      "outputs": [],
      "source": [
        "#import library\n",
        "import pandas as pd\n",
        "import numpy as np\n",
        "from sklearn.model_selection import train_test_split\n",
        "from sklearn.preprocessing import StandardScaler\n",
        "from sklearn.metrics import (\n",
        "    accuracy_score, precision_score, recall_score,\n",
        "    f1_score, roc_auc_score, roc_curve, confusion_matrix\n",
        ")\n",
        "from sklearn.neighbors import KNeighborsClassifier\n",
        "from sklearn.tree import DecisionTreeClassifier\n",
        "from imblearn.over_sampling import SMOTE\n",
        "import matplotlib.pyplot as plt"
      ]
    },
    {
      "cell_type": "code",
      "source": [
        "# Load dataset\n",
        "df = pd.read_csv(\"sample_data/income (1).csv\")"
      ],
      "metadata": {
        "id": "07Rylb7C4JJI"
      },
      "execution_count": 6,
      "outputs": []
    },
    {
      "cell_type": "code",
      "source": [
        "# Drop missing values\n",
        "df.dropna(inplace=True)"
      ],
      "metadata": {
        "id": "okmMcGGZ4LNy"
      },
      "execution_count": 7,
      "outputs": []
    },
    {
      "cell_type": "code",
      "source": [
        "# Encode target column: 1 if income >50K, else 0\n",
        "df['income'] = df['income'].apply(lambda x: 1 if x.strip() == '>50K' else 0)"
      ],
      "metadata": {
        "id": "c8UjLZYc4MrL"
      },
      "execution_count": 8,
      "outputs": []
    },
    {
      "cell_type": "code",
      "source": [
        "# Identify categorical features\n",
        "categorical_cols = df.select_dtypes(include='object').columns"
      ],
      "metadata": {
        "id": "fTMLooeV4N7U"
      },
      "execution_count": 9,
      "outputs": []
    },
    {
      "cell_type": "code",
      "source": [
        "# One-hot encode categorical features\n",
        "df = pd.get_dummies(df, columns=categorical_cols)"
      ],
      "metadata": {
        "id": "H8s-69774PUH"
      },
      "execution_count": 10,
      "outputs": []
    },
    {
      "cell_type": "code",
      "source": [
        "# Separate features and target\n",
        "X = df.drop('income', axis=1)\n",
        "y = df['income']"
      ],
      "metadata": {
        "id": "bXt0Ikvi4QlK"
      },
      "execution_count": 11,
      "outputs": []
    },
    {
      "cell_type": "code",
      "source": [
        "# Apply SMOTE to handle class imbalance\n",
        "smote = SMOTE(random_state=42)\n",
        "X_resampled, y_resampled = smote.fit_resample(X, y)"
      ],
      "metadata": {
        "id": "YakdqUfd4R8S"
      },
      "execution_count": 12,
      "outputs": []
    },
    {
      "cell_type": "code",
      "source": [
        "# Train-test split on resampled data\n",
        "X_train, X_test, y_train, y_test = train_test_split(\n",
        "    X_resampled, y_resampled, test_size=0.2, random_state=42\n",
        ")"
      ],
      "metadata": {
        "id": "dE_37UOA4UOb"
      },
      "execution_count": 13,
      "outputs": []
    },
    {
      "cell_type": "code",
      "source": [
        "# Scale features for k-NN\n",
        "scaler = StandardScaler()\n",
        "X_train_scaled = scaler.fit_transform(X_train)\n",
        "X_test_scaled = scaler.transform(X_test)"
      ],
      "metadata": {
        "id": "3jSnQv484Vjp"
      },
      "execution_count": 14,
      "outputs": []
    },
    {
      "cell_type": "markdown",
      "source": [
        "### k-Nearest Neighbors (k-NN)\n",
        "\n",
        "Algoritma k-NN menentukan kelas dari sebuah data baru dengan melihat \\(k\\) tetangga terdekatnya berdasarkan jarak (umumnya Euclidean distance). Kelas yang paling sering muncul dari tetangga-tetangga tersebut akan dipilih.\n",
        "\n",
        "#### Persamaan Euclidean Distance\n",
        "\n",
        "$$\n",
        "d(x, x') = \\sqrt{\\sum_{i=1}^{n} (x_i - x_i')^2}\n",
        "$$\n",
        "\n",
        "- \\( x \\) = data baru\n",
        "- \\( x' \\) = tetangga dari data latih\n",
        "- \\( n \\) = jumlah fitur\n",
        "\n",
        "Semakin kecil jarak \\( d \\), semakin dekat data tersebut dianggap mirip."
      ],
      "metadata": {
        "id": "29yfZzCu4nM9"
      }
    },
    {
      "cell_type": "code",
      "source": [
        "# ========================\n",
        "# Train k-NN Classifier\n",
        "# ========================\n",
        "knn = KNeighborsClassifier(n_neighbors=5)\n",
        "knn.fit(X_train_scaled, y_train)\n",
        "y_pred_knn = knn.predict(X_test_scaled)\n",
        "y_prob_knn = knn.predict_proba(X_test_scaled)[:, 1]"
      ],
      "metadata": {
        "id": "oaRbu0LP4XEd"
      },
      "execution_count": 15,
      "outputs": []
    },
    {
      "cell_type": "markdown",
      "source": [
        "### Decision Tree\n",
        "\n",
        "Decision Tree bekerja dengan membagi data ke dalam node berdasarkan fitur yang memaksimalkan pemisahan kelas. Setiap pembagian (split) didasarkan pada **impurity** — seberapa “campur aduk” sebuah node.\n",
        "\n",
        "#### Entropy (untuk mengukur impurity)\n",
        "\n",
        "$$\n",
        "H(S) = - \\sum_{i=1}^{c} p_i \\log_2(p_i)\n",
        "$$\n",
        "\n",
        "- \\( S \\) = himpunan data dalam node\n",
        "- \\( c \\) = jumlah kelas\n",
        "- \\( p_i \\) = proporsi data di kelas ke-\\(i\\)"
      ],
      "metadata": {
        "id": "jGcQDHoj4rdJ"
      }
    },
    {
      "cell_type": "code",
      "source": [
        "# ================================\n",
        "# Train Decision Tree Classifier\n",
        "# ================================\n",
        "tree = DecisionTreeClassifier(random_state=42)\n",
        "tree.fit(X_train, y_train)\n",
        "y_pred_tree = tree.predict(X_test)\n",
        "y_prob_tree = tree.predict_proba(X_test)[:, 1]"
      ],
      "metadata": {
        "id": "FuZMU2rH4YxP"
      },
      "execution_count": 16,
      "outputs": []
    },
    {
      "cell_type": "markdown",
      "source": [
        "# Evaluation"
      ],
      "metadata": {
        "id": "H9QvL95e5O6l"
      }
    },
    {
      "cell_type": "markdown",
      "source": [
        "Akurasi\n",
        "\n",
        "Akurasi mengukur seberapa sering model membuat prediksi yang benar (baik positif maupun negatif).\n",
        "\n",
        "$$\n",
        "\\text{Accuracy} = \\frac{TP + TN}{TP + TN + FP + FN}\n",
        "$$\n",
        "\n",
        "Presisi\n",
        "\n",
        "Presisi menunjukkan proporsi dari prediksi positif yang benar-benar positif. Cocok ketika kesalahan prediksi positif perlu diminimalkan.\n",
        "\n",
        "$$\n",
        "\\text{Precision} = \\frac{TP}{TP + FP}\n",
        "$$\n",
        "\n",
        "Recall (Sensitivitas)\n",
        "\n",
        "Recall menghitung berapa banyak kasus positif yang berhasil dikenali oleh model.\n",
        "\n",
        "$$\n",
        "\\text{Recall} = \\frac{TP}{TP + FN}\n",
        "$$\n",
        "\n",
        "F1 Score\n",
        "\n",
        "F1 Score adalah rata-rata harmonik dari Precision dan Recall. Berguna saat data tidak seimbang dan kita butuh keseimbangan antara keduanya.\n",
        "\n",
        "$$\n",
        "F1 = 2 \\times \\frac{\\text{Precision} \\times \\text{Recall}}{\\text{Precision} + \\text{Recall}}\n",
        "$$\n",
        "\n",
        "False Positive Rate (FPR)\n",
        "\n",
        "FPR mengukur seberapa sering model salah memprediksi negatif sebagai positif.\n",
        "\n",
        "$$\n",
        "\\text{FPR} = \\frac{FP}{FP + TN}\n",
        "$$\n",
        "\n",
        "True Positive Rate (TPR / Recall)\n",
        "\n",
        "TPR adalah recall itu sendiri — proporsi kasus positif yang berhasil terdeteksi.\n",
        "\n",
        "$$\n",
        "\\text{TPR} = \\frac{TP}{TP + FN}\n",
        "$$\n",
        "\n",
        "AUC (Area Under Curve)\n",
        "\n",
        "AUC adalah area di bawah kurva ROC yang menunjukkan kemampuan model dalam membedakan antara dua kelas. Semakin mendekati 1, semakin baik.\n",
        "\n",
        "$$\n",
        "AUC = \\int_{0}^{1} TPR(FPR) \\, dFPR\n",
        "$$"
      ],
      "metadata": {
        "id": "1FZE-6Oy5Utm"
      }
    },
    {
      "cell_type": "code",
      "source": [
        "# ========================\n",
        "# Evaluation Function\n",
        "# ========================\n",
        "def evaluate_model(y_true, y_pred, y_prob, model_name):\n",
        "    print(f\"=== {model_name} (With SMOTE) ===\")\n",
        "    print(\"Accuracy:\", accuracy_score(y_true, y_pred))\n",
        "    print(\"Precision:\", precision_score(y_true, y_pred))\n",
        "    print(\"Recall:\", recall_score(y_true, y_pred))\n",
        "    print(\"F1 Score:\", f1_score(y_true, y_pred))\n",
        "    print(\"ROC AUC Score:\", roc_auc_score(y_true, y_prob))\n",
        "    print(\"Confusion Matrix:\\n\", confusion_matrix(y_true, y_pred))\n",
        "    print()"
      ],
      "metadata": {
        "id": "yUVct92G4bYV"
      },
      "execution_count": 17,
      "outputs": []
    },
    {
      "cell_type": "code",
      "source": [
        "# Evaluate both models\n",
        "evaluate_model(y_test, y_pred_knn, y_prob_knn, \"k-NN\")\n",
        "evaluate_model(y_test, y_pred_tree, y_prob_tree, \"Decision Tree\")"
      ],
      "metadata": {
        "colab": {
          "base_uri": "https://localhost:8080/"
        },
        "id": "dlztLUI34c32",
        "outputId": "1c81fcb5-4dfb-47a7-d16b-3c4f7dd508da"
      },
      "execution_count": 18,
      "outputs": [
        {
          "output_type": "stream",
          "name": "stdout",
          "text": [
            "=== k-NN (With SMOTE) ===\n",
            "Accuracy: 0.8978758169934641\n",
            "Precision: 0.9200691581327304\n",
            "Recall: 0.8710652228657769\n",
            "F1 Score: 0.8948968372032857\n",
            "ROC AUC Score: 0.9546010094515223\n",
            "Confusion Matrix:\n",
            " [[7369  601]\n",
            " [1024 6918]]\n",
            "\n",
            "=== Decision Tree (With SMOTE) ===\n",
            "Accuracy: 0.877325289089995\n",
            "Precision: 0.8692971639950678\n",
            "Recall: 0.8876857214807353\n",
            "F1 Score: 0.8783952155494642\n",
            "ROC AUC Score: 0.8773434880929398\n",
            "Confusion Matrix:\n",
            " [[6910 1060]\n",
            " [ 892 7050]]\n",
            "\n"
          ]
        }
      ]
    },
    {
      "cell_type": "code",
      "source": [
        "# ========================\n",
        "# Plot ROC Curves\n",
        "# ========================\n",
        "fpr_knn, tpr_knn, _ = roc_curve(y_test, y_prob_knn)\n",
        "fpr_tree, tpr_tree, _ = roc_curve(y_test, y_prob_tree)\n",
        "\n",
        "plt.figure(figsize=(10, 6))\n",
        "plt.plot(fpr_knn, tpr_knn, label='k-NN (AUC = {:.2f})'.format(roc_auc_score(y_test, y_prob_knn)))\n",
        "plt.plot(fpr_tree, tpr_tree, label='Decision Tree (AUC = {:.2f})'.format(roc_auc_score(y_test, y_prob_tree)))\n",
        "plt.plot([0, 1], [0, 1], 'k--')  # Random classifier\n",
        "plt.xlabel(\"False Positive Rate\")\n",
        "plt.ylabel(\"True Positive Rate\")\n",
        "plt.title(\"ROC Curve\")\n",
        "plt.legend()\n",
        "plt.grid(True)\n",
        "plt.show()"
      ],
      "metadata": {
        "colab": {
          "base_uri": "https://localhost:8080/",
          "height": 564
        },
        "id": "cy1Hi3-Y4e_0",
        "outputId": "66234f86-8310-4929-b7b5-4c1e52cbbba9"
      },
      "execution_count": 19,
      "outputs": [
        {
          "output_type": "display_data",
          "data": {
            "text/plain": [
              "<Figure size 1000x600 with 1 Axes>"
            ],
            "image/png": "[encoded data removed]"
          },
          "metadata": {}
        }
      ]
    },
    {
      "cell_type": "markdown",
      "source": [
        "### Hasil Evaluasi Model k-NN (Dengan SMOTE)\n",
        "\n",
        "Model k-NN setelah diimbangi menggunakan SMOTE memberikan hasil sebagai berikut:\n",
        "\n",
        "- **Accuracy**: 0.8979  \n",
        "- **Precision**: 0.9201  \n",
        "- **Recall**: 0.8711  \n",
        "- **F1 Score**: 0.8949  \n",
        "- **ROC AUC Score**: 0.9546  \n",
        "\n",
        "#### Confusion Matrix:\n",
        "$$\n",
        "\\begin{bmatrix}\n",
        "7369 & 601 \\\\\n",
        "1024 & 6918 \\\\\n",
        "\\end{bmatrix}\n",
        "$$\n",
        "\n",
        "#### Interpretasi:\n",
        "- **Akurasi tinggi (89.8%)**, menunjukkan model mampu mengklasifikasikan data dengan sangat baik secara keseluruhan.\n",
        "- **Precision 92%** artinya mayoritas prediksi positif benar.\n",
        "- **Recall 87%** menunjukkan model juga tidak banyak melewatkan data positif.\n",
        "- **F1 Score** seimbang di tengah precision dan recall yang tinggi.\n",
        "- **AUC 0.95** → menunjukkan model sangat baik dalam membedakan kelas positif dan negatif.\n",
        "\n",
        "---\n",
        "\n",
        "### Hasil Evaluasi Model Decision Tree (Dengan SMOTE)\n",
        "\n",
        "- **Accuracy**: 0.8773  \n",
        "- **Precision**: 0.8693  \n",
        "- **Recall**: 0.8877  \n",
        "- **F1 Score**: 0.8784  \n",
        "- **ROC AUC Score**: 0.8773  \n",
        "\n",
        "#### Confusion Matrix:\n",
        "$$\n",
        "\\begin{bmatrix}\n",
        "6910 & 1060 \\\\\n",
        "892 & 7050 \\\\\n",
        "\\end{bmatrix}\n",
        "$$\n",
        "\n",
        "#### Interpretasi:\n",
        "- Akurasi masih tinggi (87.7%), sedikit lebih rendah dari k-NN.\n",
        "- Recall lebih tinggi dari precision → model cukup agresif menangkap kelas positif.\n",
        "- AUC 0.877 menunjukkan performa klasifikasi masih baik, walaupun sedikit di bawah k-NN.\n",
        "- Cocok ketika fokus utamanya adalah **mendeteksi sebanyak mungkin kasus positif (recall)**.\n",
        "\n",
        "---\n",
        "\n",
        "### 🧾 Kesimpulan Perbandingan\n",
        "\n",
        "| Metrik         | k-NN (SMOTE) | Decision Tree (SMOTE) |\n",
        "|----------------|--------------|------------------------|\n",
        "| Accuracy       | 0.8979       | 0.8773                 |\n",
        "| Precision      | 0.9201       | 0.8693                 |\n",
        "| Recall         | 0.8711       | 0.8877                 |\n",
        "| F1 Score       | 0.8949       | 0.8784                 |\n",
        "| ROC AUC Score  | 0.9546       | 0.8773                 |\n",
        "\n",
        "**k-NN** unggul dalam hampir semua metrik, terutama dalam membedakan kelas (AUC sangat tinggi).  \n",
        "**Decision Tree** bisa jadi pilihan jika kamu lebih mengutamakan interpretabilitas dan kecepatan.\n",
        "\n"
      ],
      "metadata": {
        "id": "oN8rzRj550KH"
      }
    }
  ]
}