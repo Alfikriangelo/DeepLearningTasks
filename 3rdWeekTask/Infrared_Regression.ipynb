{
  "nbformat": 4,
  "nbformat_minor": 0,
  "metadata": {
    "colab": {
      "provenance": [],
      "authorship_tag": "ABX9TyMCVId8Umqn04yYyL3TQDnB",
      "include_colab_link": true
    },
    "kernelspec": {
      "name": "python3",
      "display_name": "Python 3"
    },
    "language_info": {
      "name": "python"
    }
  },
  "cells": [
    {
      "cell_type": "markdown",
      "metadata": {
        "id": "view-in-github",
        "colab_type": "text"
      },
      "source": [
        "<a href=\"https://colab.research.google.com/github/Alfikriangelo/DeepLearningTasks/blob/main/3rdWeekTask/Infrared_Regression.ipynb\" target=\"_parent\"><img src=\"https://colab.research.google.com/assets/colab-badge.svg\" alt=\"Open In Colab\"/></a>"
      ]
    },
    {
      "cell_type": "code",
      "execution_count": 19,
      "metadata": {
        "id": "FvZzpNSbnYLz"
      },
      "outputs": [],
      "source": [
        "# Import Library\n",
        "import pandas as pd\n",
        "import numpy as np\n",
        "import matplotlib.pyplot as plt\n",
        "from sklearn.model_selection import train_test_split, GridSearchCV\n",
        "from sklearn.preprocessing import LabelEncoder, StandardScaler\n",
        "from sklearn.impute import SimpleImputer\n",
        "from sklearn.pipeline import Pipeline\n",
        "from sklearn.feature_selection import SelectKBest, f_regression\n",
        "from sklearn.neighbors import KNeighborsRegressor\n",
        "from sklearn.tree import DecisionTreeRegressor\n",
        "from sklearn.metrics import mean_squared_error, r2_score"
      ]
    },
    {
      "cell_type": "code",
      "source": [
        "# Load data\n",
        "df = pd.read_csv(\"sample_data/Infrared (1).csv\")  # Sesuaikan path jika berbeda\n",
        "data = df.copy()\n",
        "\n",
        "# Encode kolom kategorikal\n",
        "label_encoders = {}\n",
        "for col in data.select_dtypes(include=['object']).columns:\n",
        "    le = LabelEncoder()\n",
        "    data[col] = le.fit_transform(data[col])\n",
        "    label_encoders[col] = le\n",
        "\n",
        "# Pisahkan fitur dan target\n",
        "X = data.drop(columns=['aveOralM'])\n",
        "y = data['aveOralM']\n",
        "\n",
        "# Tangani missing value\n",
        "imputer = SimpleImputer(strategy='median')\n",
        "X_imputed = imputer.fit_transform(X)"
      ],
      "metadata": {
        "id": "ZpSTlj_3vcsU"
      },
      "execution_count": 20,
      "outputs": []
    },
    {
      "cell_type": "code",
      "source": [
        "# feature selection\n",
        "selector = SelectKBest(score_func=f_regression, k='all')\n",
        "X_selected = selector.fit_transform(X_imputed, y)\n",
        "selected_features = X.columns[selector.get_support()]\n",
        "print(\"✅ Fitur terpilih:\", list(selected_features))"
      ],
      "metadata": {
        "colab": {
          "base_uri": "https://localhost:8080/"
        },
        "id": "YbU-o96zvljJ",
        "outputId": "1ee0f755-9c2d-4bd8-c535-654c48b2fd78"
      },
      "execution_count": 21,
      "outputs": [
        {
          "output_type": "stream",
          "name": "stdout",
          "text": [
            "✅ Fitur terpilih: ['Gender', 'Age', 'Ethnicity', 'T_atm', 'Humidity', 'Distance', 'T_offset1', 'Max1R13_1', 'Max1L13_1', 'aveAllR13_1', 'aveAllL13_1', 'T_RC1', 'T_RC_Dry1', 'T_RC_Wet1', 'T_RC_Max1', 'T_LC1', 'T_LC_Dry1', 'T_LC_Wet1', 'T_LC_Max1', 'RCC1', 'LCC1', 'canthiMax1', 'canthi4Max1', 'T_FHCC1', 'T_FHRC1', 'T_FHLC1', 'T_FHBC1', 'T_FHTC1', 'T_FH_Max1', 'T_FHC_Max1', 'T_Max1', 'T_OR1', 'T_OR_Max1']\n"
          ]
        }
      ]
    },
    {
      "cell_type": "code",
      "source": [
        "#split data\n",
        "X_train, X_test, y_train, y_test = train_test_split(X_selected, y, test_size=0.2, random_state=42)"
      ],
      "metadata": {
        "id": "T6EzX9eLvnc8"
      },
      "execution_count": 22,
      "outputs": []
    },
    {
      "cell_type": "markdown",
      "source": [
        "### K-Nearest Neighbors (KNN)\n",
        "\n",
        "KNN menentukan prediksi berdasarkan rata-rata target dari K data terdekat. Kedekatan biasanya dihitung menggunakan jarak Euclidean sebagai berikut:\n",
        "\n",
        "$$\n",
        "d(x, x_i) = \\sqrt{\\sum_{j=1}^{n}(x_j - x_{ij})^2}\n",
        "$$\n",
        "\n",
        "Di mana:\n",
        "- \\( d(x, x_i) \\): jarak antara data baru \\( x \\) dan data ke-\\( i \\) di dataset\n",
        "- \\( x_j \\): nilai fitur ke-\\( j \\) dari data baru\n",
        "- \\( x_{ij} \\): nilai fitur ke-\\( j \\) dari data ke-\\( i \\)\n",
        "- \\( n \\): jumlah fitur\n",
        "\n",
        "Setelah dihitung, nilai target diprediksi dengan rata-rata dari K tetangga terdekat:\n",
        "$$\n",
        "\\hat{y} = \\frac{1}{K} \\sum_{i=1}^{K} y_i\n",
        "$$\n"
      ],
      "metadata": {
        "id": "39qCa06hvsZD"
      }
    },
    {
      "cell_type": "code",
      "source": [
        "# KNN Tuning\n",
        "knn_pipeline = Pipeline([\n",
        "    ('scaler', StandardScaler()),\n",
        "    ('knn', KNeighborsRegressor())\n",
        "])\n",
        "\n",
        "knn_params = {\n",
        "    'knn__n_neighbors': list(range(1, 31)),\n",
        "    'knn__weights': ['uniform', 'distance'],\n",
        "    'knn__algorithm': ['auto', 'ball_tree', 'kd_tree', 'brute']\n",
        "}\n",
        "\n",
        "knn_grid = GridSearchCV(knn_pipeline, knn_params, cv=10, scoring='r2', n_jobs=-1)\n",
        "knn_grid.fit(X_train, y_train)\n",
        "knn_best = knn_grid.best_estimator_\n",
        "knn_preds = knn_best.predict(X_test)\n"
      ],
      "metadata": {
        "id": "kzFLN_cRvq2r"
      },
      "execution_count": 23,
      "outputs": []
    },
    {
      "cell_type": "markdown",
      "source": [
        "### Decision Tree Regressor\n",
        "\n",
        "Model ini membuat pembagian data (split) berdasarkan fitur yang menghasilkan error terkecil. Salah satu metriknya adalah **Mean Squared Error (MSE)**:\n",
        "\n",
        "$$\n",
        "MSE = \\frac{1}{n} \\sum_{i=1}^{n} (y_i - \\hat{y})^2\n",
        "$$\n",
        "\n",
        "Jika menggunakan Mean Absolute Error (MAE):\n",
        "\n",
        "$$\n",
        "MAE = \\frac{1}{n} \\sum_{i=1}^{n} |y_i - \\hat{y}|\n",
        "$$\n",
        "\n",
        "Model terus membagi data sampai batas maksimum kedalaman (`max_depth`) atau jumlah minimum data di daun (`min_samples_leaf`).\n"
      ],
      "metadata": {
        "id": "TkjNTqXfyFgW"
      }
    },
    {
      "cell_type": "code",
      "source": [
        "# Decision Tree Tuning\n",
        "dt_params = {\n",
        "    'max_depth': [3, 5, 10, 15, 20, None],\n",
        "    'min_samples_leaf': [1, 3, 5, 10],\n",
        "    'min_samples_split': [2, 5, 10],\n",
        "    'max_features': [None, 'sqrt', 'log2'],\n",
        "    'criterion': ['squared_error', 'absolute_error']\n",
        "}\n",
        "\n",
        "dt_grid = GridSearchCV(DecisionTreeRegressor(random_state=42), dt_params, cv=10, scoring='r2', n_jobs=-1)\n",
        "dt_grid.fit(X_train, y_train)\n",
        "dt_best = dt_grid.best_estimator_\n",
        "dt_preds = dt_best.predict(X_test)"
      ],
      "metadata": {
        "id": "gxJy1YgCwqkL"
      },
      "execution_count": 24,
      "outputs": []
    },
    {
      "cell_type": "markdown",
      "source": [
        "### Evaluasi Model\n",
        "\n",
        "Untuk mengukur seberapa baik model prediksi, digunakan beberapa metrik berikut:\n",
        "\n",
        "**1. Mean Squared Error (MSE):**\n",
        "\n",
        "$$\n",
        "MSE = \\frac{1}{n} \\sum_{i=1}^{n}(y_i - \\hat{y}_i)^2\n",
        "$$\n",
        "\n",
        "**2. Root Mean Squared Error (RMSE):**\n",
        "\n",
        "$$\n",
        "RMSE = \\sqrt{MSE}\n",
        "$$\n",
        "\n",
        "**3. R-squared (Koefisien Determinasi):**\n",
        "\n",
        "$$\n",
        "R^2 = 1 - \\frac{\\sum_{i=1}^{n}(y_i - \\hat{y}_i)^2}{\\sum_{i=1}^{n}(y_i - \\bar{y})^2}\n",
        "$$\n",
        "\n",
        "- \\( y_i \\): nilai aktual\n",
        "- \\( \\hat{y}_i \\): nilai prediksi\n",
        "- \\( \\bar{y} \\): rata-rata nilai aktual\n",
        "\n",
        "Nilai \\( R^2 \\) mendekati 1 menunjukkan model yang sangat baik.\n"
      ],
      "metadata": {
        "id": "TcMN-3BJwttr"
      }
    },
    {
      "cell_type": "code",
      "source": [
        "# Evaluation\n",
        "def evaluate_model(name, y_true, y_pred, model):\n",
        "    mse = mean_squared_error(y_true, y_pred)\n",
        "    rmse = np.sqrt(mse)\n",
        "    r2 = r2_score(y_true, y_pred)\n",
        "    print(f\"\\n{name} Evaluation:\")\n",
        "    print(f\"  Best Params: {model.best_params_}\")\n",
        "    print(f\"  MSE: {mse:.4f}\")\n",
        "    print(f\"  RMSE: {rmse:.4f}\")\n",
        "    print(f\"  R-squared: {r2:.4f}\")\n",
        "\n",
        "evaluate_model(\"KNN\", y_test, knn_preds, knn_grid)\n",
        "evaluate_model(\"Decision Tree\", y_test, dt_preds, dt_grid)"
      ],
      "metadata": {
        "colab": {
          "base_uri": "https://localhost:8080/"
        },
        "id": "IbMn8wP1wuM0",
        "outputId": "77193afd-ac4b-4d95-e3ce-db887e000c4f"
      },
      "execution_count": 25,
      "outputs": [
        {
          "output_type": "stream",
          "name": "stdout",
          "text": [
            "\n",
            "KNN Evaluation:\n",
            "  Best Params: {'knn__algorithm': 'auto', 'knn__n_neighbors': 10, 'knn__weights': 'uniform'}\n",
            "  MSE: 0.0620\n",
            "  RMSE: 0.2489\n",
            "  R-squared: 0.7058\n",
            "\n",
            "Decision Tree Evaluation:\n",
            "  Best Params: {'criterion': 'absolute_error', 'max_depth': 3, 'max_features': None, 'min_samples_leaf': 10, 'min_samples_split': 2}\n",
            "  MSE: 0.0660\n",
            "  RMSE: 0.2568\n",
            "  R-squared: 0.6867\n"
          ]
        }
      ]
    },
    {
      "cell_type": "markdown",
      "source": [
        "### Korelasi Fitur\n",
        "\n",
        "Korelasi antara fitur dan target dihitung dengan Pearson correlation:\n",
        "\n",
        "$$\n",
        "r = \\frac{\\sum (x_i - \\bar{x})(y_i - \\bar{y})}{\\sqrt{\\sum (x_i - \\bar{x})^2 \\sum (y_i - \\bar{y})^2}}\n",
        "$$\n",
        "\n",
        "Nilai \\( r \\) berkisar antara -1 (negatif sempurna) hingga +1 (positif sempurna).\n"
      ],
      "metadata": {
        "id": "PsCbLWkTybMt"
      }
    },
    {
      "cell_type": "code",
      "source": [
        "# Correlation\n",
        "correlation = pd.DataFrame(X_imputed, columns=X.columns).corrwith(y)\n",
        "correlation.sort_values(ascending=False).plot(kind='bar', figsize=(12, 5), title=\"Correlation to Target (aveOralM)\")\n",
        "plt.tight_layout()\n",
        "plt.show()"
      ],
      "metadata": {
        "colab": {
          "base_uri": "https://localhost:8080/",
          "height": 507
        },
        "id": "dTlmfh6GwyKn",
        "outputId": "d02cd01a-cf49-4198-df87-07f1862492f0"
      },
      "execution_count": 26,
      "outputs": [
        {
          "output_type": "display_data",
          "data": {
            "text/plain": [
              "<Figure size 1200x500 with 1 Axes>"
            ],
            "image/png": "[encoded data removed]"
          },
          "metadata": {}
        }
      ]
    }
  ]
}